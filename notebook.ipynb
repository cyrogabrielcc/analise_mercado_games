{
 "cells": [
  {
   "cell_type": "code",
   "execution_count": 17,
   "id": "1b2978fd",
   "metadata": {},
   "outputs": [],
   "source": [
    "import pandas as pd\n",
    "import numpy as np\n",
    "import seaborn as sns\n",
    "import matplotlib.pyplot as plt\n",
    "\n",
    "import warnings\n",
    "warnings.filterwarnings('ignore')"
   ]
  },
  {
   "cell_type": "code",
   "execution_count": 18,
   "id": "cd3751dc",
   "metadata": {},
   "outputs": [
    {
     "data": {
      "text/html": [
       "<div>\n",
       "<style scoped>\n",
       "    .dataframe tbody tr th:only-of-type {\n",
       "        vertical-align: middle;\n",
       "    }\n",
       "\n",
       "    .dataframe tbody tr th {\n",
       "        vertical-align: top;\n",
       "    }\n",
       "\n",
       "    .dataframe thead th {\n",
       "        text-align: right;\n",
       "    }\n",
       "</style>\n",
       "<table border=\"1\" class=\"dataframe\">\n",
       "  <thead>\n",
       "    <tr style=\"text-align: right;\">\n",
       "      <th></th>\n",
       "      <th>Game</th>\n",
       "      <th>Year</th>\n",
       "      <th>Genre</th>\n",
       "      <th>Publisher</th>\n",
       "      <th>North America</th>\n",
       "      <th>Europe</th>\n",
       "      <th>Japan</th>\n",
       "      <th>Rest of World</th>\n",
       "      <th>Global</th>\n",
       "    </tr>\n",
       "  </thead>\n",
       "  <tbody>\n",
       "    <tr>\n",
       "      <th>0</th>\n",
       "      <td>Grand Theft Auto V</td>\n",
       "      <td>2014.0</td>\n",
       "      <td>Action</td>\n",
       "      <td>Rockstar Games</td>\n",
       "      <td>6.06</td>\n",
       "      <td>9.71</td>\n",
       "      <td>0.60</td>\n",
       "      <td>3.02</td>\n",
       "      <td>19.39</td>\n",
       "    </tr>\n",
       "    <tr>\n",
       "      <th>1</th>\n",
       "      <td>Call of Duty: Black Ops 3</td>\n",
       "      <td>2015.0</td>\n",
       "      <td>Shooter</td>\n",
       "      <td>Activision</td>\n",
       "      <td>6.18</td>\n",
       "      <td>6.05</td>\n",
       "      <td>0.41</td>\n",
       "      <td>2.44</td>\n",
       "      <td>15.09</td>\n",
       "    </tr>\n",
       "    <tr>\n",
       "      <th>2</th>\n",
       "      <td>Red Dead Redemption 2</td>\n",
       "      <td>2018.0</td>\n",
       "      <td>Action-Adventure</td>\n",
       "      <td>Rockstar Games</td>\n",
       "      <td>5.26</td>\n",
       "      <td>6.21</td>\n",
       "      <td>0.21</td>\n",
       "      <td>2.26</td>\n",
       "      <td>13.94</td>\n",
       "    </tr>\n",
       "    <tr>\n",
       "      <th>3</th>\n",
       "      <td>Call of Duty: WWII</td>\n",
       "      <td>2017.0</td>\n",
       "      <td>Shooter</td>\n",
       "      <td>Activision</td>\n",
       "      <td>4.67</td>\n",
       "      <td>6.21</td>\n",
       "      <td>0.40</td>\n",
       "      <td>2.12</td>\n",
       "      <td>13.40</td>\n",
       "    </tr>\n",
       "    <tr>\n",
       "      <th>4</th>\n",
       "      <td>FIFA 18</td>\n",
       "      <td>2017.0</td>\n",
       "      <td>Sports</td>\n",
       "      <td>EA Sports</td>\n",
       "      <td>1.27</td>\n",
       "      <td>8.64</td>\n",
       "      <td>0.15</td>\n",
       "      <td>1.73</td>\n",
       "      <td>11.80</td>\n",
       "    </tr>\n",
       "  </tbody>\n",
       "</table>\n",
       "</div>"
      ],
      "text/plain": [
       "                        Game    Year             Genre       Publisher  \\\n",
       "0         Grand Theft Auto V  2014.0            Action  Rockstar Games   \n",
       "1  Call of Duty: Black Ops 3  2015.0           Shooter      Activision   \n",
       "2      Red Dead Redemption 2  2018.0  Action-Adventure  Rockstar Games   \n",
       "3         Call of Duty: WWII  2017.0           Shooter      Activision   \n",
       "4                    FIFA 18  2017.0            Sports       EA Sports   \n",
       "\n",
       "   North America  Europe  Japan  Rest of World  Global  \n",
       "0           6.06    9.71   0.60           3.02   19.39  \n",
       "1           6.18    6.05   0.41           2.44   15.09  \n",
       "2           5.26    6.21   0.21           2.26   13.94  \n",
       "3           4.67    6.21   0.40           2.12   13.40  \n",
       "4           1.27    8.64   0.15           1.73   11.80  "
      ]
     },
     "execution_count": 18,
     "metadata": {},
     "output_type": "execute_result"
    }
   ],
   "source": [
    "df = pd.read_csv('PS4_GamesSales.csv',encoding='latin-1')\n",
    "\n",
    "df.head()"
   ]
  },
  {
   "cell_type": "code",
   "execution_count": 19,
   "id": "8e0d0f0e",
   "metadata": {},
   "outputs": [
    {
     "data": {
      "text/plain": [
       "(1034, 9)"
      ]
     },
     "execution_count": 19,
     "metadata": {},
     "output_type": "execute_result"
    }
   ],
   "source": [
    "df.shape"
   ]
  },
  {
   "cell_type": "code",
   "execution_count": 20,
   "id": "7e83b1ae",
   "metadata": {},
   "outputs": [
    {
     "data": {
      "text/plain": [
       "Game               0\n",
       "Year             209\n",
       "Genre              0\n",
       "Publisher        209\n",
       "North America      0\n",
       "Europe             0\n",
       "Japan              0\n",
       "Rest of World      0\n",
       "Global             0\n",
       "dtype: int64"
      ]
     },
     "execution_count": 20,
     "metadata": {},
     "output_type": "execute_result"
    }
   ],
   "source": [
    "df.isnull().sum()"
   ]
  },
  {
   "cell_type": "code",
   "execution_count": 21,
   "id": "2a189d91",
   "metadata": {},
   "outputs": [
    {
     "data": {
      "image/png": "[encoded data removed]",
      "text/plain": [
       "<Figure size 1080x360 with 1 Axes>"
      ]
     },
     "metadata": {
      "needs_background": "light"
     },
     "output_type": "display_data"
    }
   ],
   "source": [
    "plt.figure(figsize=(15,5))\n",
    "sns.heatmap(df.isnull(), cbar=False);"
   ]
  },
  {
   "cell_type": "code",
   "execution_count": 22,
   "id": "6580448b",
   "metadata": {},
   "outputs": [
    {
     "data": {
      "text/plain": [
       "(825, 9)"
      ]
     },
     "execution_count": 22,
     "metadata": {},
     "output_type": "execute_result"
    }
   ],
   "source": [
    "# Por ser uma análise de registros individuais, serão removidos os nulos\n",
    "df.dropna(inplace=True)\n",
    "df.shape"
   ]
  },
  {
   "cell_type": "code",
   "execution_count": 23,
   "id": "77d1c143",
   "metadata": {},
   "outputs": [
    {
     "data": {
      "text/html": [
       "<div>\n",
       "<style scoped>\n",
       "    .dataframe tbody tr th:only-of-type {\n",
       "        vertical-align: middle;\n",
       "    }\n",
       "\n",
       "    .dataframe tbody tr th {\n",
       "        vertical-align: top;\n",
       "    }\n",
       "\n",
       "    .dataframe thead th {\n",
       "        text-align: right;\n",
       "    }\n",
       "</style>\n",
       "<table border=\"1\" class=\"dataframe\">\n",
       "  <thead>\n",
       "    <tr style=\"text-align: right;\">\n",
       "      <th></th>\n",
       "      <th>Game</th>\n",
       "      <th>Year</th>\n",
       "      <th>Genre</th>\n",
       "      <th>Publisher</th>\n",
       "      <th>North America</th>\n",
       "      <th>Europe</th>\n",
       "      <th>Japan</th>\n",
       "      <th>Rest of World</th>\n",
       "      <th>Global</th>\n",
       "    </tr>\n",
       "  </thead>\n",
       "  <tbody>\n",
       "    <tr>\n",
       "      <th>0</th>\n",
       "      <td>Grand Theft Auto V</td>\n",
       "      <td>2014.0</td>\n",
       "      <td>Action</td>\n",
       "      <td>Rockstar Games</td>\n",
       "      <td>6.06</td>\n",
       "      <td>9.71</td>\n",
       "      <td>0.60</td>\n",
       "      <td>3.02</td>\n",
       "      <td>19.39</td>\n",
       "    </tr>\n",
       "    <tr>\n",
       "      <th>1</th>\n",
       "      <td>Call of Duty: Black Ops 3</td>\n",
       "      <td>2015.0</td>\n",
       "      <td>Shooter</td>\n",
       "      <td>Activision</td>\n",
       "      <td>6.18</td>\n",
       "      <td>6.05</td>\n",
       "      <td>0.41</td>\n",
       "      <td>2.44</td>\n",
       "      <td>15.09</td>\n",
       "    </tr>\n",
       "    <tr>\n",
       "      <th>2</th>\n",
       "      <td>Red Dead Redemption 2</td>\n",
       "      <td>2018.0</td>\n",
       "      <td>Action-Adventure</td>\n",
       "      <td>Rockstar Games</td>\n",
       "      <td>5.26</td>\n",
       "      <td>6.21</td>\n",
       "      <td>0.21</td>\n",
       "      <td>2.26</td>\n",
       "      <td>13.94</td>\n",
       "    </tr>\n",
       "  </tbody>\n",
       "</table>\n",
       "</div>"
      ],
      "text/plain": [
       "                        Game    Year             Genre       Publisher  \\\n",
       "0         Grand Theft Auto V  2014.0            Action  Rockstar Games   \n",
       "1  Call of Duty: Black Ops 3  2015.0           Shooter      Activision   \n",
       "2      Red Dead Redemption 2  2018.0  Action-Adventure  Rockstar Games   \n",
       "\n",
       "   North America  Europe  Japan  Rest of World  Global  \n",
       "0           6.06    9.71   0.60           3.02   19.39  \n",
       "1           6.18    6.05   0.41           2.44   15.09  \n",
       "2           5.26    6.21   0.21           2.26   13.94  "
      ]
     },
     "execution_count": 23,
     "metadata": {},
     "output_type": "execute_result"
    }
   ],
   "source": [
    "df.head(3)"
   ]
  },
  {
   "cell_type": "markdown",
   "id": "8bf5e812",
   "metadata": {},
   "source": [
    "> ##### Vendas Globais de games de 2013 até 2018"
   ]
  },
  {
   "cell_type": "code",
   "execution_count": 26,
   "id": "9649e00d",
   "metadata": {},
   "outputs": [
    {
     "data": {
      "image/png": "[encoded data removed]",
      "text/plain": [
       "<Figure size 432x288 with 1 Axes>"
      ]
     },
     "metadata": {
      "needs_background": "light"
     },
     "output_type": "display_data"
    }
   ],
   "source": [
    "#Plotando\n",
    "sns.barplot(data= df.groupby(by='Year').sum() ,x= df.groupby(by='Year').sum().index , y= 'Global');"
   ]
  },
  {
   "cell_type": "markdown",
   "id": "6c9b5acd",
   "metadata": {},
   "source": [
    "##### Removendo anos com informações erradas"
   ]
  },
  {
   "cell_type": "code",
   "execution_count": 27,
   "id": "4da4dd26",
   "metadata": {},
   "outputs": [
    {
     "data": {
      "text/html": [
       "<div>\n",
       "<style scoped>\n",
       "    .dataframe tbody tr th:only-of-type {\n",
       "        vertical-align: middle;\n",
       "    }\n",
       "\n",
       "    .dataframe tbody tr th {\n",
       "        vertical-align: top;\n",
       "    }\n",
       "\n",
       "    .dataframe thead th {\n",
       "        text-align: right;\n",
       "    }\n",
       "</style>\n",
       "<table border=\"1\" class=\"dataframe\">\n",
       "  <thead>\n",
       "    <tr style=\"text-align: right;\">\n",
       "      <th></th>\n",
       "      <th>Game</th>\n",
       "      <th>Year</th>\n",
       "      <th>Genre</th>\n",
       "      <th>Publisher</th>\n",
       "      <th>North America</th>\n",
       "      <th>Europe</th>\n",
       "      <th>Japan</th>\n",
       "      <th>Rest of World</th>\n",
       "      <th>Global</th>\n",
       "    </tr>\n",
       "  </thead>\n",
       "  <tbody>\n",
       "  </tbody>\n",
       "</table>\n",
       "</div>"
      ],
      "text/plain": [
       "Empty DataFrame\n",
       "Columns: [Game, Year, Genre, Publisher, North America, Europe, Japan, Rest of World, Global]\n",
       "Index: []"
      ]
     },
     "execution_count": 27,
     "metadata": {},
     "output_type": "execute_result"
    }
   ],
   "source": [
    "# Removendo 2019 e 2020 q não têm valores\n",
    "df = df.loc[(df['Year']!= 2019) & (df['Year']!= 2020) ]\n",
    "df.loc[(df['Year']== 2019) & (df['Year']== 2020) ]"
   ]
  },
  {
   "cell_type": "code",
   "execution_count": 28,
   "id": "f1db235d",
   "metadata": {
    "scrolled": false
   },
   "outputs": [
    {
     "data": {
      "image/png": "[encoded data removed]",
      "text/plain": [
       "<Figure size 432x288 with 1 Axes>"
      ]
     },
     "metadata": {
      "needs_background": "light"
     },
     "output_type": "display_data"
    }
   ],
   "source": [
    "# Agrupando dados pela idade\n",
    "analise_anual = df.groupby(by='Year').sum()\n",
    "\n",
    "# Plotando dados ajustados\n",
    "sns.barplot(data=analise_anual ,x=analise_anual.index, y= 'Global');"
   ]
  },
  {
   "cell_type": "code",
   "execution_count": 46,
   "id": "3b10ea0b",
   "metadata": {},
   "outputs": [
    {
     "data": {
      "text/html": [
       "<div>\n",
       "<style scoped>\n",
       "    .dataframe tbody tr th:only-of-type {\n",
       "        vertical-align: middle;\n",
       "    }\n",
       "\n",
       "    .dataframe tbody tr th {\n",
       "        vertical-align: top;\n",
       "    }\n",
       "\n",
       "    .dataframe thead th {\n",
       "        text-align: right;\n",
       "    }\n",
       "</style>\n",
       "<table border=\"1\" class=\"dataframe\">\n",
       "  <thead>\n",
       "    <tr style=\"text-align: right;\">\n",
       "      <th></th>\n",
       "      <th>North America</th>\n",
       "      <th>Europe</th>\n",
       "      <th>Japan</th>\n",
       "      <th>Rest of World</th>\n",
       "      <th>Global</th>\n",
       "    </tr>\n",
       "    <tr>\n",
       "      <th>Year</th>\n",
       "      <th></th>\n",
       "      <th></th>\n",
       "      <th></th>\n",
       "      <th></th>\n",
       "      <th></th>\n",
       "    </tr>\n",
       "  </thead>\n",
       "  <tbody>\n",
       "    <tr>\n",
       "      <th>2013.0</th>\n",
       "      <td>10.35</td>\n",
       "      <td>12.88</td>\n",
       "      <td>0.97</td>\n",
       "      <td>4.57</td>\n",
       "      <td>28.76</td>\n",
       "    </tr>\n",
       "    <tr>\n",
       "      <th>2014.0</th>\n",
       "      <td>39.80</td>\n",
       "      <td>54.12</td>\n",
       "      <td>3.58</td>\n",
       "      <td>18.29</td>\n",
       "      <td>115.85</td>\n",
       "    </tr>\n",
       "    <tr>\n",
       "      <th>2015.0</th>\n",
       "      <td>49.60</td>\n",
       "      <td>56.21</td>\n",
       "      <td>7.28</td>\n",
       "      <td>20.88</td>\n",
       "      <td>133.99</td>\n",
       "    </tr>\n",
       "    <tr>\n",
       "      <th>2016.0</th>\n",
       "      <td>47.40</td>\n",
       "      <td>57.98</td>\n",
       "      <td>9.65</td>\n",
       "      <td>20.71</td>\n",
       "      <td>135.72</td>\n",
       "    </tr>\n",
       "    <tr>\n",
       "      <th>2017.0</th>\n",
       "      <td>44.77</td>\n",
       "      <td>57.18</td>\n",
       "      <td>9.08</td>\n",
       "      <td>19.89</td>\n",
       "      <td>130.90</td>\n",
       "    </tr>\n",
       "  </tbody>\n",
       "</table>\n",
       "</div>"
      ],
      "text/plain": [
       "        North America  Europe  Japan  Rest of World  Global\n",
       "Year                                                       \n",
       "2013.0          10.35   12.88   0.97           4.57   28.76\n",
       "2014.0          39.80   54.12   3.58          18.29  115.85\n",
       "2015.0          49.60   56.21   7.28          20.88  133.99\n",
       "2016.0          47.40   57.98   9.65          20.71  135.72\n",
       "2017.0          44.77   57.18   9.08          19.89  130.90"
      ]
     },
     "execution_count": 46,
     "metadata": {},
     "output_type": "execute_result"
    }
   ],
   "source": [
    "analise_anual.head(5)"
   ]
  },
  {
   "cell_type": "code",
   "execution_count": 29,
   "id": "703cdaf0",
   "metadata": {},
   "outputs": [
    {
     "data": {
      "image/png": "[encoded data removed]",
      "text/plain": [
       "<Figure size 432x288 with 1 Axes>"
      ]
     },
     "metadata": {
      "needs_background": "light"
     },
     "output_type": "display_data"
    }
   ],
   "source": [
    "plt.title(\"Distribuição das vendas blobais\")\n",
    "plt.style.use('ggplot')\n",
    "sns.kdeplot(df['Global'], shade=True,bw=1 , color = '#A020F0', linewidth=2.5);"
   ]
  },
  {
   "cell_type": "code",
   "execution_count": 40,
   "id": "df2aefb3",
   "metadata": {},
   "outputs": [
    {
     "data": {
      "text/plain": [
       "([35.9874826147427,\n",
       "  34.35476909797151,\n",
       "  37.01768788715576,\n",
       "  34.92484526967286,\n",
       "  34.20168067226891,\n",
       "  39.14342629482071],\n",
       " [3.372739916550765,\n",
       "  3.0902028485110056,\n",
       "  5.433241286663184,\n",
       "  7.110226937813145,\n",
       "  6.936592818945759,\n",
       "  8.227091633466136],\n",
       " [44.78442280945759,\n",
       "  46.71558049201555,\n",
       "  41.95089185760131,\n",
       "  42.72030651340996,\n",
       "  43.68220015278838,\n",
       "  37.25099601593625],\n",
       " [15.890125173852576,\n",
       "  15.78765645230902,\n",
       "  15.58325248152847,\n",
       "  15.259357500736812,\n",
       "  15.194805194805195,\n",
       "  15.31872509960159])"
      ]
     },
     "execution_count": 40,
     "metadata": {},
     "output_type": "execute_result"
    }
   ],
   "source": [
    "# Porcentagem da venda de games por pais/ continente\n",
    "\n",
    "america = [america/total * 100 for america, total in zip(analise_anual['North America'], analise_anual['Global'])]\n",
    "europa = [europa/total * 100 for europa, total in zip(analise_anual['Europe'], analise_anual['Global'])]\n",
    "japao = [japao/total * 100 for japao, total in zip(analise_anual['Japan'], analise_anual['Global'])]\n",
    "mundo = [mundo/total * 100 for mundo, total in zip(analise_anual['Rest of World'], analise_anual['Global'])]\n",
    "america, japao, europa, mundo"
   ]
  },
  {
   "cell_type": "markdown",
   "id": "1886d3d1",
   "metadata": {},
   "source": [
    "##### Análise da distruibuição por continente"
   ]
  },
  {
   "cell_type": "code",
   "execution_count": 81,
   "id": "746959d7",
   "metadata": {},
   "outputs": [
    {
     "data": {
      "image/png": "[encoded data removed]",
      "text/plain": [
       "<Figure size 720x360 with 1 Axes>"
      ]
     },
     "metadata": {},
     "output_type": "display_data"
    }
   ],
   "source": [
    "# Tamanho\n",
    "plt.figure(figsize=(10,5))\n",
    "\n",
    "# Título\n",
    "plt.title(\"Análise da Distruibuição de Continentes\")\n",
    "\n",
    "# Criando Rótulos do Gráfico\n",
    "largura_barra =  0.85\n",
    "rotulos = analise_anual.index\n",
    "grupos = [0,1,2,3,4,5]\n",
    "\n",
    "# Criando Gráfico States\n",
    "plt.bar(grupos, \n",
    "        america, \n",
    "        width=largura_barra, \n",
    "        color='#FF4500', \n",
    "        edgecolor='white')\n",
    "\n",
    "# Grafico Europa\n",
    "plt.bar(grupos, \n",
    "        europa,\n",
    "        bottom=america, \n",
    "        width=largura_barra, \n",
    "        color='#FFD700', \n",
    "        edgecolor='white')\n",
    "\n",
    "# Criando Gráfico combinado - Euro\n",
    "plt.bar(grupos, \n",
    "        japao,\n",
    "        bottom=[A+B for A, B in zip(america, europa)],\n",
    "        width=largura_barra, \n",
    "        color='#DAA520', \n",
    "        edgecolor='white')\n",
    "\n",
    "# Criando Gráfico combinado - Japao\n",
    "plt.bar(grupos, \n",
    "        mundo,\n",
    "        bottom=[A+B+C for A, B, C in zip(america, europa, japao)],\n",
    "        width=largura_barra, \n",
    "        color='#D2691E', \n",
    "        edgecolor='white')\n",
    "\n",
    "# Labels\n",
    "plt.xticks(grupos, rotulos);\n",
    "plt.xlabel('Grupo')\n",
    "plt.ylabel('Distribuição %');\n",
    "\n",
    "# LEgenda\n",
    "plt.legend(['América do Norte', ' Europa', 'Japão', 'Resto do Mundo' ], \n",
    "           loc='upper left', \n",
    "           bbox_to_anchor=(0.15,-0.1),\n",
    "           ncol = 4);"
   ]
  },
  {
   "cell_type": "code",
   "execution_count": null,
   "id": "562d3817",
   "metadata": {},
   "outputs": [],
   "source": []
  }
 ],
 "metadata": {
  "kernelspec": {
   "display_name": "Python 3 (ipykernel)",
   "language": "python",
   "name": "python3"
  },
  "language_info": {
   "codemirror_mode": {
    "name": "ipython",
    "version": 3
   },
   "file_extension": ".py",
   "mimetype": "text/x-python",
   "name": "python",
   "nbconvert_exporter": "python",
   "pygments_lexer": "ipython3",
   "version": "3.9.12"
  }
 },
 "nbformat": 4,
 "nbformat_minor": 5
}
